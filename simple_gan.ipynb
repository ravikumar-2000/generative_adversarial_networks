{
 "cells": [
  {
   "cell_type": "code",
   "execution_count": null,
   "id": "b161e450",
   "metadata": {
    "id": "b161e450"
   },
   "outputs": [],
   "source": [
    "import os\n",
    "import numpy as np\n",
    "from tqdm import tqdm\n",
    "from statistics import mean\n",
    "import matplotlib.pyplot as plt\n",
    "\n",
    "import torch\n",
    "import torch.nn as nn\n",
    "from torch.utils.data import DataLoader\n",
    "from torchvision import transforms\n",
    "from torchvision.utils import make_grid\n",
    "from torchvision.datasets import MNIST"
   ]
  },
  {
   "cell_type": "code",
   "execution_count": null,
   "id": "yAkH26X03RWv",
   "metadata": {
    "id": "yAkH26X03RWv"
   },
   "outputs": [],
   "source": [
    "def get_device():\n",
    "    if torch.cuda.is_available():\n",
    "        return torch.device('cuda')\n",
    "    if torch.backends.mps.is_available():\n",
    "        return torch.device('mps')\n",
    "    return torch.device('cpu')"
   ]
  },
  {
   "cell_type": "code",
   "execution_count": null,
   "id": "560a0233",
   "metadata": {
    "id": "560a0233"
   },
   "outputs": [],
   "source": [
    "DATA_DIR = 'GAN_data'\n",
    "GEN_MODEL_FILE_NAME = 'trained_models/basic_gan_generator.pt'\n",
    "DISC_MODEL_FILE_NAME = 'trained_models/basic_gan_discriminator.pt'\n",
    "EPOCHS = 100\n",
    "BATCH_SIZE = 128\n",
    "LR = 5e-5\n",
    "LOSS_FUNC = nn.BCEWithLogitsLoss()\n",
    "LATENT_DIM = 64\n",
    "HIDDEN_DIM = 128\n",
    "MEAN_GEN_LOSS = 0\n",
    "MEAN_DISC_LOSS = 0\n",
    "DEVICE = get_device()"
   ]
  },
  {
   "cell_type": "code",
   "execution_count": null,
   "id": "baf950ca",
   "metadata": {
    "id": "baf950ca"
   },
   "outputs": [],
   "source": [
    "def show_examples(tensors, size=(28, 28), channels=1, num_images=25):\n",
    "    image_data = tensors.detach().cpu().view(tensors.shape[0], channels, *size)\n",
    "    image_grid = make_grid(image_data[:num_images], nrow=5).permute(1, 2, 0)\n",
    "    plt.imshow(image_grid.clip(min=0, max=1))\n",
    "    plt.axis('off')\n",
    "    plt.show()"
   ]
  },
  {
   "cell_type": "code",
   "execution_count": null,
   "id": "2b08706f",
   "metadata": {
    "id": "2b08706f",
    "scrolled": true
   },
   "outputs": [],
   "source": [
    "train_data = MNIST(\n",
    "    root=DATA_DIR,\n",
    "    train=True,\n",
    "    download=True,\n",
    "    transform=transforms.ToTensor(),\n",
    ")\n",
    "\n",
    "test_data = MNIST(\n",
    "    root=DATA_DIR,\n",
    "    train=False,\n",
    "    download=True,\n",
    "    transform=transforms.ToTensor(),\n",
    ")"
   ]
  },
  {
   "cell_type": "code",
   "execution_count": null,
   "id": "48d8d59e",
   "metadata": {
    "id": "48d8d59e"
   },
   "outputs": [],
   "source": [
    "train_dl = DataLoader(\n",
    "    dataset=train_data,\n",
    "    batch_size=BATCH_SIZE,\n",
    "    shuffle=True,\n",
    "    drop_last=True,\n",
    ")\n",
    "\n",
    "test_dl = DataLoader(\n",
    "    dataset=test_data,\n",
    "    batch_size=BATCH_SIZE,\n",
    "    shuffle=True,\n",
    "    drop_last=False,\n",
    ")"
   ]
  },
  {
   "cell_type": "code",
   "execution_count": null,
   "id": "00d989b6",
   "metadata": {
    "id": "00d989b6"
   },
   "outputs": [],
   "source": [
    "class Generator(nn.Module):\n",
    "    def __init__(self, latent_dim, hidden_dim, out_dim):\n",
    "        super(Generator, self).__init__()\n",
    "        self.generator = nn.Sequential(\n",
    "            self.generator_block(latent_dim, hidden_dim),\n",
    "            self.generator_block(hidden_dim, hidden_dim*2),\n",
    "            self.generator_block(hidden_dim*2, hidden_dim*4),\n",
    "            self.generator_block(hidden_dim*4, hidden_dim*8),\n",
    "            nn.Linear(hidden_dim*8, out_dim*out_dim),\n",
    "            nn.Sigmoid(),\n",
    "        )\n",
    "        \n",
    "    def forward(self, noise):\n",
    "        return self.generator(noise)\n",
    "    \n",
    "    def generator_block(self, in_features, out_features):\n",
    "        return nn.Sequential(\n",
    "            nn.Linear(in_features=in_features, out_features=out_features),\n",
    "            nn.BatchNorm1d(num_features=out_features),\n",
    "            nn.ReLU(inplace=True),\n",
    "        )"
   ]
  },
  {
   "cell_type": "code",
   "execution_count": null,
   "id": "9b4c72b8",
   "metadata": {
    "id": "9b4c72b8"
   },
   "outputs": [],
   "source": [
    "class Discriminator(nn.Module):\n",
    "    def __init__(self, input_dim, hidden_dim):\n",
    "        super(Discriminator, self).__init__()\n",
    "        self.discriminator = nn.Sequential(\n",
    "            self.discriminator_block(input_dim, hidden_dim*4),\n",
    "            self.discriminator_block(hidden_dim*4, hidden_dim*2),\n",
    "            self.discriminator_block(hidden_dim*2, hidden_dim),\n",
    "            nn.Linear(hidden_dim, 1),\n",
    "        )\n",
    "        \n",
    "    def forward(self, input_):\n",
    "        return self.discriminator(input_)\n",
    "    \n",
    "    def discriminator_block(self, in_features, out_features):\n",
    "        return nn.Sequential(\n",
    "            nn.Linear(in_features=in_features, out_features=out_features),\n",
    "            nn.LeakyReLU(inplace=True),\n",
    "        )"
   ]
  },
  {
   "cell_type": "code",
   "execution_count": null,
   "id": "140ab48b",
   "metadata": {
    "colab": {
     "base_uri": "https://localhost:8080/"
    },
    "id": "140ab48b",
    "outputId": "16a9fd32-3d37-45e8-f5d8-ccd60aacdccd",
    "scrolled": true
   },
   "outputs": [],
   "source": [
    "gen_model = Generator(LATENT_DIM, HIDDEN_DIM, 28)\n",
    "gen_model"
   ]
  },
  {
   "cell_type": "code",
   "execution_count": null,
   "id": "ba7f2d5c",
   "metadata": {
    "colab": {
     "base_uri": "https://localhost:8080/"
    },
    "id": "ba7f2d5c",
    "outputId": "75eff381-5d69-4455-cb38-12bc30a9d3b6"
   },
   "outputs": [],
   "source": [
    "disc_model = Discriminator(28*28, HIDDEN_DIM*2)\n",
    "disc_model"
   ]
  },
  {
   "cell_type": "code",
   "execution_count": null,
   "id": "9cde75fb",
   "metadata": {
    "id": "9cde75fb"
   },
   "outputs": [],
   "source": [
    "gen_model.to(DEVICE)\n",
    "disc_model.to(DEVICE)\n",
    "\n",
    "gen_opt = torch.optim.Adam(params=gen_model.parameters(), lr=LR)\n",
    "disc_opt = torch.optim.Adam(params=disc_model.parameters(), lr=LR)"
   ]
  },
  {
   "cell_type": "code",
   "execution_count": null,
   "id": "40a9e9d5",
   "metadata": {
    "id": "40a9e9d5"
   },
   "outputs": [],
   "source": [
    "def generate_noise(num_vectors, latent_dim):\n",
    "    return torch.randn(num_vectors, latent_dim).to(DEVICE)"
   ]
  },
  {
   "cell_type": "code",
   "execution_count": null,
   "id": "0ced4e64",
   "metadata": {
    "colab": {
     "base_uri": "https://localhost:8080/"
    },
    "id": "0ced4e64",
    "outputId": "7e1f6eaf-9222-4943-dfec-3498f4f63725"
   },
   "outputs": [],
   "source": [
    "sample_imgs, sample_labels = next(iter(train_dl))\n",
    "print(sample_imgs.shape, sample_labels.shape)\n",
    "print(sample_imgs[0], sample_labels[0])"
   ]
  },
  {
   "cell_type": "code",
   "execution_count": null,
   "id": "4dc6e8c0",
   "metadata": {
    "colab": {
     "base_uri": "https://localhost:8080/",
     "height": 248
    },
    "id": "4dc6e8c0",
    "outputId": "aed1a4fa-6442-4171-cabb-15e2f7ee7bb3",
    "scrolled": true
   },
   "outputs": [],
   "source": [
    "show_examples(tensors=sample_imgs, size=(28, 28))"
   ]
  },
  {
   "cell_type": "code",
   "execution_count": null,
   "id": "9f8a2ef0",
   "metadata": {
    "colab": {
     "base_uri": "https://localhost:8080/",
     "height": 248
    },
    "id": "9f8a2ef0",
    "outputId": "4702cc63-b8e1-4e36-d1ed-05b1b0674387",
    "scrolled": true
   },
   "outputs": [],
   "source": [
    "noise = generate_noise(BATCH_SIZE, LATENT_DIM)\n",
    "gen_fake_images = gen_model(noise)\n",
    "show_examples(tensors=gen_fake_images)"
   ]
  },
  {
   "cell_type": "code",
   "execution_count": null,
   "id": "d5741e69",
   "metadata": {
    "id": "d5741e69"
   },
   "outputs": [],
   "source": [
    "def calculate_generator_loss(generator_model, discriminator_model, loss_function, LATENT_DIM):\n",
    "    noise = generate_noise(BATCH_SIZE, LATENT_DIM)\n",
    "    gen_fake_images = generator_model(noise)\n",
    "    disc_preds = discriminator_model(gen_fake_images)\n",
    "    disc_pred_targets = torch.ones_like(disc_preds)\n",
    "    return loss_function(disc_preds, disc_pred_targets)\n",
    "\n",
    "def calculate_discriminator_loss(generator_model, discriminator_model, loss_function, LATENT_DIM, real_images):\n",
    "    # loss with fake images\n",
    "    noise = generate_noise(BATCH_SIZE, LATENT_DIM)\n",
    "    gen_fake_images = generator_model(noise)\n",
    "    disc_preds = discriminator_model(gen_fake_images.detach())\n",
    "    disc_pred_targets = torch.zeros_like(disc_preds)\n",
    "    disc_fake_loss = loss_function(disc_preds, disc_pred_targets)\n",
    "    # loss with real images\n",
    "    disc_preds = discriminator_model(real_images)\n",
    "    disc_pred_targets = torch.ones_like(disc_preds)\n",
    "    disc_real_loss = loss_function(disc_preds, disc_pred_targets)\n",
    "    return (disc_fake_loss+disc_real_loss)/2"
   ]
  },
  {
   "cell_type": "code",
   "execution_count": null,
   "id": "0b10971c",
   "metadata": {
    "colab": {
     "base_uri": "https://localhost:8080/"
    },
    "id": "0b10971c",
    "outputId": "7b1f8117-448f-457c-d733-8ae6a815b8d9"
   },
   "outputs": [],
   "source": [
    "calculate_generator_loss(gen_model, disc_model, LOSS_FUNC, LATENT_DIM)"
   ]
  },
  {
   "cell_type": "code",
   "execution_count": null,
   "id": "8c721e67",
   "metadata": {
    "colab": {
     "base_uri": "https://localhost:8080/"
    },
    "id": "8c721e67",
    "outputId": "b66eccfc-9cfd-457a-e023-48963222f457"
   },
   "outputs": [],
   "source": [
    "test_images = sample_imgs.view(sample_imgs.shape[0], -1).to(DEVICE)\n",
    "calculate_discriminator_loss(gen_model, disc_model, LOSS_FUNC, LATENT_DIM, test_images)"
   ]
  },
  {
   "cell_type": "code",
   "execution_count": null,
   "id": "97d0d4f0",
   "metadata": {
    "colab": {
     "base_uri": "https://localhost:8080/",
     "height": 1000
    },
    "id": "97d0d4f0",
    "outputId": "eb0b0e09-d3eb-4325-9acc-2aa0eed488cb"
   },
   "outputs": [],
   "source": [
    "for epoch in range(EPOCHS):\n",
    "    gen_losses = []\n",
    "    disc_losses = []\n",
    "    for real_imgs, _ in tqdm(train_dl):\n",
    "        # discriminator training\n",
    "        disc_opt.zero_grad()\n",
    "        test_imgs = real_imgs.view(real_imgs.shape[0], -1).to(DEVICE)\n",
    "        disc_loss = calculate_discriminator_loss(gen_model, disc_model, LOSS_FUNC, LATENT_DIM, test_imgs)\n",
    "        disc_loss.backward()\n",
    "        disc_opt.step()\n",
    "        # generator training\n",
    "        gen_opt.zero_grad()\n",
    "        gen_loss = calculate_generator_loss(gen_model, disc_model, LOSS_FUNC, LATENT_DIM)\n",
    "        gen_loss.backward()\n",
    "        gen_opt.step()\n",
    "\n",
    "        disc_losses.append(disc_loss.item())\n",
    "        gen_losses.append(gen_loss.item())\n",
    "\n",
    "    MEAN_GEN_LOSS = mean(gen_losses)\n",
    "    MEAN_DISC_LOSS = mean(disc_losses)\n",
    "    noise = generate_noise(BATCH_SIZE, LATENT_DIM)\n",
    "    fake_imgs = gen_model(noise)\n",
    "    show_examples(fake_imgs)\n",
    "    show_examples(real_imgs)\n",
    "    print(f'EPOCH: {epoch} | Mean Gen Loss: {MEAN_GEN_LOSS} | Mean Disc Loss: {MEAN_DISC_LOSS}\\n\\n')"
   ]
  },
  {
   "cell_type": "code",
   "execution_count": null,
   "id": "kUbqgr-AA446",
   "metadata": {
    "id": "kUbqgr-AA446"
   },
   "outputs": [],
   "source": [
    "torch.save(gen_model.state_dict(), GEN_MODEL_FILE_NAME)\n",
    "torch.save(disc_model.state_dict(), DISC_MODEL_FILE_NAME)"
   ]
  }
 ],
 "metadata": {
  "accelerator": "GPU",
  "colab": {
   "provenance": []
  },
  "gpuClass": "standard",
  "kernelspec": {
   "display_name": "Python 3 (ipykernel)",
   "language": "python",
   "name": "python3"
  },
  "language_info": {
   "codemirror_mode": {
    "name": "ipython",
    "version": 3
   },
   "file_extension": ".py",
   "mimetype": "text/x-python",
   "name": "python",
   "nbconvert_exporter": "python",
   "pygments_lexer": "ipython3",
   "version": "3.10.8"
  }
 },
 "nbformat": 4,
 "nbformat_minor": 5
}
